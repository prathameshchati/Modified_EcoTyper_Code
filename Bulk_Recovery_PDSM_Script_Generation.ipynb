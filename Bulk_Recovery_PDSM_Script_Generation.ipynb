{
 "cells": [
  {
   "cell_type": "markdown",
   "id": "cddf1560",
   "metadata": {},
   "source": [
    "#### Script Name: ecotyper_recovery_bulk_predefined_states_mode.sh"
   ]
  },
  {
   "cell_type": "code",
   "execution_count": 25,
   "id": "8b0fea86",
   "metadata": {},
   "outputs": [],
   "source": [
    "# m = \"PDSM_Bulk_Data/All_Bulk_PDSM_Expression_Matrix.txt\"\n",
    "# a = \"PDSM_Bulk_Data/All_Bulk_PDSM_Annotations.txt\"\n",
    "dataset = \"kirby\"\n",
    "# m = f\"PDSM_Bulk_Data/{dataset}/{dataset}_expression_matrix_tpm.txt\"\n",
    "m = f\"PDSM_Bulk_Data/{dataset}/{dataset}_expression_matrix_tpm_revised_gene_names.txt\"\n",
    "# m = f\"PDSM_Bulk_Data/{dataset}/{dataset}_expression_matrix.txt\"\n",
    "a = f\"PDSM_Bulk_Data/{dataset}/{dataset}_annotations.txt\"\n",
    "# m = f\"PDSM_Bulk_Data/{dataset}/{dataset}_expression_matrix_tpm_full.txt\"\n",
    "# a = f\"PDSM_Bulk_Data/{dataset}/{dataset}_annotations_full.txt\"\n",
    "# m = \"PDSM_Bulk_Data/moffit/moffit_expression_matrix.txt\"\n",
    "# a = \"PDSM_Bulk_Data/moffit/moffit_annotations.txt\"\n",
    "t = 8\n",
    "# bulkRecoveryFolder = \"TCGA_Recovery_120622_Modified\"\n",
    "# bulkRecoveryFolder = \"Bailey_Recovery_120622_Modified\"\n",
    "bulkRecoveryFolder = \"Kirby_Recovery_120622_Modified\"\n",
    "\n",
    "# bulkRecoveryFolder = \"TCGA_Recovery_Full_111922\"\n",
    "# bulkRecoveryFolder = \"TCGA_Recovery_102922\"\n",
    "# bulkRecoveryFolder = \"Bailey_Recovery_102922\"\n",
    "# bulkRecoveryFolder = \"Kirby_Recovery_102922\"\n",
    "testFolder = \"Test_18_New_scRNA_Seq_Object_Discovered_States_PDSM_102322\"\n",
    "bi = f\"{testFolder}/{bulkRecoveryFolder}/Inputs\"\n",
    "singleCellInputs = f\"{testFolder}/Single_Cell_Inputs\"\n",
    "dm = f\"{singleCellInputs}/scCountsMatrixT_Reformatted_Discovery_091622_Discovered_ISA_Malignant_RelabeledF.txt\"\n",
    "da = f\"{singleCellInputs}/scObsOldF_Reformatted_Discovery_091622_Discovered_ISA_Malignant_RelabeledF.txt\"\n",
    "k = testFolder\n",
    "o = f\"{testFolder}/{bulkRecoveryFolder}\"\n",
    "s = 0\n",
    "pd = \"/duo4/users/pchati/EcoTyper_Updated/ecotyper/EcoTyper/Discovery_scRNA_EcoTyper_Downsized_Peng_082922/Cell_type_specific_genes/Cell_States/discovery\"\n",
    "pr = \"/duo4/users/pchati/EcoTyper_Updated/ecotyper/EcoTyper/Discovery_scRNA_EcoTyper_Downsized_Peng_082922/Cell_type_specific_genes/Analysis/rank_selection\"\n",
    "ssm = 0"
   ]
  },
  {
   "cell_type": "code",
   "execution_count": 26,
   "id": "daf7cac5",
   "metadata": {},
   "outputs": [],
   "source": [
    "scriptTemplate = f\"Rscript EcoTyper_recovery_bulk_PDSM_Compiled_Steps.R -m {m} -a {a} -t {t} -bi {bi} -dm {dm} -da {da} -k {k} -o {o} -pd {pd} -pr {pr} -ssm {ssm}\" "
   ]
  },
  {
   "cell_type": "code",
   "execution_count": 27,
   "id": "099e77d7",
   "metadata": {},
   "outputs": [
    {
     "name": "stdout",
     "output_type": "stream",
     "text": [
      "Rscript EcoTyper_recovery_bulk_PDSM_Compiled_Steps.R -m PDSM_Bulk_Data/kirby/kirby_expression_matrix_tpm_revised_gene_names.txt -a PDSM_Bulk_Data/kirby/kirby_annotations.txt -t 8 -bi Test_18_New_scRNA_Seq_Object_Discovered_States_PDSM_102322/Kirby_Recovery_120622_Modified/Inputs -dm Test_18_New_scRNA_Seq_Object_Discovered_States_PDSM_102322/Single_Cell_Inputs/scCountsMatrixT_Reformatted_Discovery_091622_Discovered_ISA_Malignant_RelabeledF.txt -da Test_18_New_scRNA_Seq_Object_Discovered_States_PDSM_102322/Single_Cell_Inputs/scObsOldF_Reformatted_Discovery_091622_Discovered_ISA_Malignant_RelabeledF.txt -k Test_18_New_scRNA_Seq_Object_Discovered_States_PDSM_102322 -o Test_18_New_scRNA_Seq_Object_Discovered_States_PDSM_102322/Kirby_Recovery_120622_Modified -pd /duo4/users/pchati/EcoTyper_Updated/ecotyper/EcoTyper/Discovery_scRNA_EcoTyper_Downsized_Peng_082922/Cell_type_specific_genes/Cell_States/discovery -pr /duo4/users/pchati/EcoTyper_Updated/ecotyper/EcoTyper/Discovery_scRNA_EcoTyper_Downsized_Peng_082922/Cell_type_specific_genes/Analysis/rank_selection -ssm 0\n"
     ]
    }
   ],
   "source": [
    "print(scriptTemplate)"
   ]
  },
  {
   "cell_type": "code",
   "execution_count": null,
   "id": "3e80b212",
   "metadata": {},
   "outputs": [],
   "source": []
  },
  {
   "cell_type": "code",
   "execution_count": null,
   "id": "1d432719",
   "metadata": {},
   "outputs": [],
   "source": []
  }
 ],
 "metadata": {
  "kernelspec": {
   "display_name": "Python 3 (ipykernel)",
   "language": "python",
   "name": "python3"
  },
  "language_info": {
   "codemirror_mode": {
    "name": "ipython",
    "version": 3
   },
   "file_extension": ".py",
   "mimetype": "text/x-python",
   "name": "python",
   "nbconvert_exporter": "python",
   "pygments_lexer": "ipython3",
   "version": "3.10.6"
  }
 },
 "nbformat": 4,
 "nbformat_minor": 5
}
